{
 "cells": [
  {
   "cell_type": "code",
   "execution_count": 1,
   "metadata": {},
   "outputs": [],
   "source": [
    "# coding: utf-8\n",
    "import numpy as np\n",
    "import pandas as pd\n",
    "import time\n",
    "from configparser import ConfigParser, ExtendedInterpolation"
   ]
  },
  {
   "cell_type": "code",
   "execution_count": 2,
   "metadata": {},
   "outputs": [],
   "source": [
    "config = ConfigParser(inline_comment_prefixes=\"#;\", interpolation=ExtendedInterpolation())\n",
    "config.read('config.ini')\n",
    "xlsfile = config['General']['output_file'] # output of generate trends is input here"
   ]
  },
  {
   "cell_type": "code",
   "execution_count": 3,
   "metadata": {},
   "outputs": [],
   "source": [
    "uni_topics = pd.read_excel(xlsfile, sheetname=0).iloc[:,-1]\n",
    "uni_topics = (uni_topics[~uni_topics.isnull()])[:100].to_list()"
   ]
  },
  {
   "cell_type": "code",
   "execution_count": 4,
   "metadata": {},
   "outputs": [],
   "source": [
    "def readData(filename):\n",
    "    print('Reading data....')\n",
    "    start = time.time()\n",
    "    df = pd.read_pickle(filename)\n",
    "    end = time.time()\n",
    "    print(f'Read finished in {end-start:.2f} seconds.\\n')\n",
    "    return df"
   ]
  },
  {
   "cell_type": "code",
   "execution_count": 5,
   "metadata": {},
   "outputs": [
    {
     "name": "stdout",
     "output_type": "stream",
     "text": [
      "Reading data....\n",
      "Read finished in 3.38 seconds.\n",
      "\n"
     ]
    }
   ],
   "source": [
    "inputfile = config['Text Cleaning']['tokenized_file']\n",
    "df = readData(inputfile)"
   ]
  },
  {
   "cell_type": "code",
   "execution_count": 6,
   "metadata": {},
   "outputs": [],
   "source": [
    "data = df.reset_index().Unigrams\n",
    "idxs = []\n",
    "for idx, row in enumerate(data.to_list()):\n",
    "    for topic in row:\n",
    "        if topic in uni_topics:\n",
    "            idxs.append(idx)"
   ]
  },
  {
   "cell_type": "code",
   "execution_count": 7,
   "metadata": {},
   "outputs": [
    {
     "data": {
      "text/plain": [
       "(16376,)"
      ]
     },
     "execution_count": 7,
     "metadata": {},
     "output_type": "execute_result"
    }
   ],
   "source": [
    "texts = df.ix[idxs].reset_index().Unigrams\n",
    "texts.shape"
   ]
  },
  {
   "cell_type": "code",
   "execution_count": 8,
   "metadata": {},
   "outputs": [],
   "source": [
    "from gensim.models import LdaModel, LsiModel, HdpModel\n",
    "from gensim.corpora import Dictionary\n",
    "# from gensim.models.wrappers import LdaMallet\n",
    "# import pyLDAvis.gensim"
   ]
  },
  {
   "cell_type": "code",
   "execution_count": 9,
   "metadata": {},
   "outputs": [],
   "source": [
    "dictionary = Dictionary(texts)"
   ]
  },
  {
   "cell_type": "code",
   "execution_count": 10,
   "metadata": {},
   "outputs": [],
   "source": [
    "corpus = [dictionary.doc2bow(text) for text in texts]"
   ]
  },
  {
   "cell_type": "code",
   "execution_count": 12,
   "metadata": {},
   "outputs": [],
   "source": [
    "#use lda multicore"
   ]
  },
  {
   "cell_type": "code",
   "execution_count": 11,
   "metadata": {},
   "outputs": [],
   "source": [
    "ldamodel = LdaModel(corpus=corpus, num_topics=6, id2word=dictionary)\n",
    "hdpmodel = HdpModel(corpus=corpus, id2word=dictionary)"
   ]
  },
  {
   "cell_type": "code",
   "execution_count": 13,
   "metadata": {},
   "outputs": [
    {
     "data": {
      "text/plain": [
       "[(0,\n",
       "  '0.024*\"mulled\" + 0.014*\"ive\" + 0.011*\"speeches\" + 0.011*\"phone\" + 0.010*\"intelligence\" + 0.010*\"big\" + 0.010*\"fake\" + 0.009*\"still\" + 0.009*\"5g\" + 0.009*\"fold\"'),\n",
       " (1,\n",
       "  '0.041*\"5g\" + 0.024*\"ways\" + 0.023*\"unleash\" + 0.022*\"essay\" + 0.014*\"objectivity\" + 0.014*\"ai-powered\" + 0.014*\"launch\" + 0.013*\"airpods\" + 0.011*\"first\" + 0.011*\"code-breaking\"'),\n",
       " (2,\n",
       "  '0.032*\"blockchains\" + 0.025*\"computers\" + 0.024*\"pi\" + 0.018*\"raspberry\" + 0.016*\"falling\" + 0.015*\"ai\" + 0.014*\"took\" + 0.013*\"model\" + 0.013*\"two\" + 0.012*\"un\"'),\n",
       " (3,\n",
       "  '0.020*\"ball\" + 0.020*\"hit\" + 0.013*\"leaving\" + 0.011*\"cells\" + 0.011*\"warning\" + 0.011*\"roughly\" + 0.010*\"blood\" + 0.010*\"vessels\" + 0.009*\"patients\" + 0.008*\"cancer\"'),\n",
       " (4,\n",
       "  '0.029*\"learning\" + 0.025*\"quantum\" + 0.021*\"reality\" + 0.021*\"carbon\" + 0.019*\"photon\" + 0.016*\"nature\" + 0.015*\"world\" + 0.015*\"machine\" + 0.014*\"physicists\" + 0.013*\"researchers\"'),\n",
       " (5,\n",
       "  '0.029*\"creativity\" + 0.015*\"blood\" + 0.013*\"runs\" + 0.011*\"algorithm\" + 0.008*\"create\" + 0.008*\"ive\" + 0.008*\"skywalker\" + 0.008*\"pixel\" + 0.008*\"heart\" + 0.007*\"process\"')]"
      ]
     },
     "execution_count": 13,
     "metadata": {},
     "output_type": "execute_result"
    }
   ],
   "source": [
    "ldamodel.show_topics()"
   ]
  },
  {
   "cell_type": "code",
   "execution_count": 15,
   "metadata": {},
   "outputs": [
    {
     "data": {
      "text/plain": [
       "[(0,\n",
       "  '0.003*intelligence + 0.003*artificial + 0.003*darker + 0.003*side + 0.003*string + 0.003*dumber + 0.003*revealed + 0.002*controversies + 0.001*two + 0.001*pacman + 0.001*5g + 0.001*carbon + 0.001*lurking + 0.001*hole + 0.001*heavy + 0.001*raspberry + 0.001*ai + 0.000*pi + 0.000*figured + 0.000*took'),\n",
       " (1,\n",
       "  '0.001*automatically + 0.001*5g + 0.001*blood + 0.001*system + 0.001*fire + 0.001*video + 0.001*warehouse + 0.001*tracking + 0.001*vegas + 0.001*pi + 0.001*researchers + 0.001*workers + 0.001*las + 0.001*spin-swapping + 0.001*picture + 0.001*warning + 0.001*unveils + 0.001*theres + 0.001*toby + 0.001*future'),\n",
       " (2,\n",
       "  '0.004*researchers + 0.004*nature + 0.004*physicists + 0.004*reality + 0.004*forcing + 0.004*objectivity + 0.004*reconsider + 0.001*5g + 0.001*first + 0.001*lexicon + 0.001*carbon + 0.001*mod + 0.001*pi + 0.001*mobypicture + 0.001*raspberry + 0.001*matchmaking + 0.000*reveal + 0.000*mind-control + 0.000*game + 0.000*biopsies'),\n",
       " (3,\n",
       "  '0.001*heavy + 0.001*5g + 0.001*warning + 0.001*users + 0.001*falcon + 0.001*reality + 0.001*forcing + 0.001*pi + 0.001*nature + 0.001*space + 0.001*raspberry + 0.001*picture + 0.001*jetliner + 0.001*cellectis + 0.000*without + 0.000*50ft + 0.000*trade + 0.000*palette + 0.000*cripples + 0.000*technology'),\n",
       " (4,\n",
       "  '0.001*5g + 0.001*federighi + 0.001*blood + 0.001*pi + 0.001*revolution + 0.001*dragon + 0.001*mechanisms + 0.001*time + 0.001*needed + 0.001*passwords + 0.000*first + 0.000*breast + 0.000*carbon + 0.000*hosted + 0.000*forcing + 0.000*revolutionize + 0.000*prostate-specific + 0.000*fails + 0.000*terrible + 0.000*ftc'),\n",
       " (5,\n",
       "  '0.001*5g + 0.001*passwords + 0.001*warning + 0.001*alleviate + 0.001*patterson + 0.001*pi + 0.000*extreme + 0.000*theres + 0.000*made + 0.000*give + 0.000*trojan + 0.000*euro + 0.000*machinemay + 0.000*carbon + 0.000*pathogens + 0.000*dragon + 0.000*tools + 0.000*aware + 0.000*alike + 0.000*ai-powered'),\n",
       " (6,\n",
       "  '0.001*ever + 0.001*5g + 0.001*psychological + 0.001*paper + 0.000*startup + 0.000*commented + 0.000*organize + 0.000*first + 0.000*blood + 0.000*readers + 0.000*trial + 0.000*suggestions + 0.000*terrible + 0.000*monorail + 0.000*passwords + 0.000*poland + 0.000*cephalopods + 0.000*dolphins + 0.000*launch + 0.000*game'),\n",
       " (7,\n",
       "  '0.001*makes + 0.001*better + 0.001*explains + 0.001*others + 0.001*dishes + 0.001*taste + 0.001*5g + 0.001*decker + 0.001*nature + 0.001*signals + 0.001*still + 0.001*pi + 0.001*media + 0.000*autodesk + 0.000*concerns + 0.000*refining + 0.000*word + 0.000*picture + 0.000*europe + 0.000*blood'),\n",
       " (8,\n",
       "  '0.001*trial + 0.001*theres + 0.001*nature + 0.001*companies + 0.001*researchers + 0.001*one + 0.001*passwords + 0.001*black + 0.001*hole + 0.001*forcing + 0.001*blood + 0.001*strategic + 0.001*physicists + 0.000*slaps + 0.000*indict + 0.000*whatever + 0.000*intels + 0.000*non-technical + 0.000*sent + 0.000*tech'),\n",
       " (9,\n",
       "  '0.001*malware + 0.001*crafted + 0.001*kill + 0.001*know + 0.001*people + 0.001*blood + 0.001*designed + 0.001*hackers + 0.001*5g + 0.001*passwords + 0.001*enchanted + 0.001*screening + 0.001*embattled + 0.001*edges + 0.000*pi + 0.000*bad + 0.000*documenting + 0.000*polymer + 0.000*ocasio-cortez + 0.000*hole'),\n",
       " (10,\n",
       "  '0.001*blood + 0.001*5g + 0.001*wireless + 0.001*pi + 0.001*brains + 0.001*printed + 0.001*vessels + 0.001*nature + 0.001*raspberry + 0.001*expanded + 0.001*picture + 0.001*desperate + 0.001*onedrive + 0.001*fine-structure + 0.000*dutch + 0.000*releasing + 0.000*mathematics + 0.000*sheet + 0.000*universally + 0.000*airpods'),\n",
       " (11,\n",
       "  '0.001*poverty + 0.001*flare + 0.001*plans + 0.001*passwords + 0.001*dip + 0.001*nicotine + 0.001*symptoms + 0.001*ai-powered + 0.001*trial + 0.001*mission + 0.001*talent + 0.001*deep-earth + 0.001*food + 0.001*crisis + 0.000*nature + 0.000*pervasive + 0.000*drawings + 0.000*magnificent + 0.000*pi + 0.000*ceremony'),\n",
       " (12,\n",
       "  '0.001*5g + 0.001*liberty + 0.001*autodesk + 0.001*trial + 0.001*nowhere + 0.001*presses + 0.001*blood + 0.001*nature + 0.001*little + 0.001*mcafee + 0.001*pi + 0.001*bangladesh + 0.001*terrible + 0.000*first + 0.000*lung + 0.000*india + 0.000*philosophies + 0.000*users + 0.000*shinier + 0.000*physicists'),\n",
       " (13,\n",
       "  '0.001*theres + 0.001*system + 0.001*solar + 0.001*planet + 0.001*probably + 0.001*solicit + 0.001*nature + 0.001*5g + 0.001*world + 0.001*aims + 0.001*one + 0.001*mid-flight + 0.001*ec2 + 0.000*commences + 0.000*know + 0.000*data + 0.000*dollop + 0.000*rogers + 0.000*camping + 0.000*livers'),\n",
       " (14,\n",
       "  '0.001*phone + 0.001*terrible + 0.001*worldand + 0.001*nature + 0.001*raspberry + 0.001*keyhole + 0.001*honoring + 0.001*pi + 0.001*heavy + 0.001*hole + 0.001*precision + 0.001*t-compatible + 0.001*5g + 0.000*amendment + 0.000*nicotine + 0.000*crime + 0.000*unbabel + 0.000*doomed + 0.000*airpods + 0.000*jupiter'),\n",
       " (15,\n",
       "  '0.001*black + 0.001*apollo + 0.001*hole + 0.001*use + 0.001*nature + 0.001*even + 0.001*officiated + 0.001*pi + 0.001*way + 0.001*passwords + 0.001*carbon + 0.001*songbirds + 0.001*dead + 0.001*5g + 0.001*blood + 0.000*blackjet + 0.000*astounding + 0.000*cardiovascular + 0.000*pleaded + 0.000*predict'),\n",
       " (16,\n",
       "  '0.002*thisll + 0.001*surveillance + 0.001*ai-powered + 0.001*system + 0.001*confuse + 0.001*picture + 0.001*gatess + 0.001*technology + 0.001*favorite + 0.001*5g + 0.001*books + 0.001*carbon + 0.001*miss + 0.001*30fps + 0.001*billboard + 0.001*vessels + 0.001*divorcing + 0.001*debunked + 0.001*blazing + 0.001*hole'),\n",
       " (17,\n",
       "  '0.001*ever + 0.001*charming + 0.001*pi + 0.001*soon + 0.001*5g + 0.001*ai + 0.001*henderson + 0.001*costs + 0.001*blood + 0.001*learning + 0.001*major + 0.001*compliance + 0.001*moonshot + 0.001*end + 0.001*planned + 0.000*nature + 0.000*raspberry + 0.000*carbon + 0.000*sign + 0.000*peers'),\n",
       " (18,\n",
       "  '0.001*needed + 0.001*lives + 0.001*arcade + 0.001*pi + 0.001*medication + 0.000*damning + 0.000*5g + 0.000*universe + 0.000*broly + 0.000*ml + 0.000*theaters + 0.000*taps + 0.000*brains + 0.000*limited-time + 0.000*matter + 0.000*tinkering + 0.000*merchants + 0.000*infections + 0.000*earbuds + 0.000*aperture'),\n",
       " (19,\n",
       "  '0.001*ecuadorian + 0.001*humans + 0.001*markdown + 0.001*deal + 0.001*ftc + 0.001*email + 0.001*phone + 0.001*warning + 0.001*5g + 0.001*festival-goers + 0.000*page + 0.000*employs + 0.000*apps + 0.000*cairo + 0.000*data + 0.000*passwords + 0.000*xoom + 0.000*one + 0.000*close-up + 0.000*carbon')]"
      ]
     },
     "execution_count": 15,
     "metadata": {},
     "output_type": "execute_result"
    }
   ],
   "source": [
    "hdpmodel.show_topics()"
   ]
  },
  {
   "cell_type": "code",
   "execution_count": null,
   "metadata": {},
   "outputs": [],
   "source": []
  }
 ],
 "metadata": {
  "file_extension": ".py",
  "kernelspec": {
   "display_name": "Python 3.7.4 64-bit",
   "language": "python",
   "name": "python37464bit3d1e6591a0a94d29987f45f3400b13c3"
  },
  "language_info": {
   "codemirror_mode": {
    "name": "ipython",
    "version": 3
   },
   "file_extension": ".py",
   "mimetype": "text/x-python",
   "name": "python",
   "nbconvert_exporter": "python",
   "pygments_lexer": "ipython3",
   "version": "3.7.4"
  },
  "mimetype": "text/x-python",
  "name": "python",
  "npconvert_exporter": "python",
  "pygments_lexer": "ipython3",
  "version": 3
 },
 "nbformat": 4,
 "nbformat_minor": 2
}
